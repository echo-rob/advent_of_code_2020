{
 "cells": [
  {
   "cell_type": "markdown",
   "metadata": {},
   "source": [
    "# Advent of Code 2020"
   ]
  },
  {
   "cell_type": "markdown",
   "metadata": {},
   "source": [
    "### Imports"
   ]
  },
  {
   "cell_type": "code",
   "execution_count": 1,
   "metadata": {},
   "outputs": [],
   "source": [
    "import os\n",
    "import re\n",
    "import pandas"
   ]
  },
  {
   "cell_type": "markdown",
   "metadata": {},
   "source": [
    "### Configs"
   ]
  },
  {
   "cell_type": "code",
   "execution_count": 2,
   "metadata": {},
   "outputs": [],
   "source": [
    "# define current path \n",
    "current_dir = os.getcwd()"
   ]
  },
  {
   "cell_type": "markdown",
   "metadata": {},
   "source": [
    "# Day 1"
   ]
  },
  {
   "cell_type": "markdown",
   "metadata": {},
   "source": [
    "### Part 1"
   ]
  },
  {
   "cell_type": "code",
   "execution_count": 3,
   "metadata": {
    "scrolled": true
   },
   "outputs": [
    {
     "name": "stdout",
     "output_type": "stream",
     "text": [
      "211 + 1809 = 2020\n",
      "211 * 1809 = 381699\n"
     ]
    }
   ],
   "source": [
    "\"\"\"\n",
    "Requirements: \n",
    "- find two numbers in list that add up to 2020 \n",
    "- get product of said numbers\n",
    "\"\"\"\n",
    "\n",
    "## input file https://adventofcode.com/2020/day/1/input \n",
    "data = []\n",
    "with open(\"{}/input/day1_input.txt\".format(current_dir), \"r\") as FIN:\n",
    "    for num in FIN:\n",
    "        data.append(int(num))\n",
    "\n",
    "goal = 2020;  \n",
    "for first_count, first_num in enumerate(data):\n",
    "    for second_count, second_num in enumerate(data[first_count+1:]):\n",
    "        check = first_num + second_num\n",
    "        if check == goal:\n",
    "            print(\"{} + {} = {}\".format(first_num, second_num, goal))\n",
    "            product = first_num * second_num\n",
    "            print(\"{} * {} = {}\".format(first_num, second_num, product))\n",
    "\n",
    "    "
   ]
  },
  {
   "cell_type": "markdown",
   "metadata": {},
   "source": [
    "### Part 2"
   ]
  },
  {
   "cell_type": "code",
   "execution_count": 4,
   "metadata": {},
   "outputs": [
    {
     "name": "stdout",
     "output_type": "stream",
     "text": [
      "395 + 198 + 1427 = 2020\n",
      "395 * 198 * 1427 = 111605670\n",
      "395 + 1427 + 198 = 2020\n",
      "395 * 1427 * 198 = 111605670\n"
     ]
    }
   ],
   "source": [
    "\"\"\"\n",
    "Requirements: \n",
    "- find three numbers in list that add up to 2020 \n",
    "- get product of said numbers\n",
    "\"\"\"\n",
    "\n",
    "goal = 2020;  \n",
    "for first_count, first_num in enumerate(data):\n",
    "    for second_count, second_num in enumerate(data[first_count+1:]):\n",
    "        for third_count, third_num in enumerate(data[first_count+2:]):\n",
    "            check = first_num + second_num + third_num\n",
    "            if check == goal:\n",
    "                print(\"{} + {} + {} = {}\".format(first_num, second_num, third_num, goal))\n",
    "                product = first_num * second_num * third_num\n",
    "                print(\"{} * {} * {} = {}\".format(first_num, second_num, third_num, product))"
   ]
  },
  {
   "cell_type": "markdown",
   "metadata": {},
   "source": [
    "# Day 2"
   ]
  },
  {
   "cell_type": "markdown",
   "metadata": {},
   "source": [
    "## Part 1"
   ]
  },
  {
   "cell_type": "code",
   "execution_count": 5,
   "metadata": {},
   "outputs": [
    {
     "name": "stdout",
     "output_type": "stream",
     "text": [
      "Valid passwords:  614\n"
     ]
    }
   ],
   "source": [
    "\"\"\"\n",
    "Requirements: \n",
    "- evaluate a list of passwords based on criteria.\n",
    "\n",
    "- From site: \n",
    "For example, suppose you have the following list:\n",
    "\n",
    "1-3 a: abcde\n",
    "1-3 b: cdefg\n",
    "2-9 c: ccccccccc\n",
    "\n",
    "Each line gives the password policy and then the password. The password policy indicates the lowest and\n",
    "highest number of times a given letter must appear for the password to be valid. For example, 1-3 a means\n",
    "that the password must contain a at least 1 time and at most 3 times.\n",
    "\n",
    "In the above example, 2 passwords are valid. The middle password, cdefg, is not; it contains no instances\n",
    "of b, but needs at least 1. The first and third passwords are valid: they contain one a or nine c, both\n",
    "within the limits of their respective policies.\n",
    "\"\"\"\n",
    "# input file: https://adventofcode.com/2020/day/2/input \n",
    "day2_data = []\n",
    "\n",
    "with open(\"{}/input/day2_input.txt\".format(current_dir), \"r\") as FIN:\n",
    "    for line in FIN:\n",
    "        day2_data.append(line)\n",
    "\n",
    "valid_password_count = 0\n",
    "for line in day2_data: \n",
    "    \n",
    "    #clean up line\n",
    "    line = re.sub(r'-', ' ', line)\n",
    "    line = re.sub(r':', '', line)\n",
    "    lower_bound, upper_bound, char, password = line.split()\n",
    "    \n",
    "    \n",
    "    # count chars\n",
    "    count=0\n",
    "    for letter in password: \n",
    "        if letter == char:\n",
    "            count += 1\n",
    "    \n",
    "    if count >= int(lower_bound) and count <= int(upper_bound):\n",
    "        valid_password_count+=1\n",
    "        \n",
    "print(\"Valid passwords: \", valid_password_count)   "
   ]
  },
  {
   "cell_type": "markdown",
   "metadata": {},
   "source": [
    "## Part 2"
   ]
  },
  {
   "cell_type": "code",
   "execution_count": 6,
   "metadata": {
    "scrolled": false
   },
   "outputs": [
    {
     "name": "stdout",
     "output_type": "stream",
     "text": [
      "Valid passwords:  354\n"
     ]
    }
   ],
   "source": [
    "\"\"\"\n",
    "Requirements: \n",
    "- evaluate a list of passwords based on criteria.\n",
    "\n",
    "- From site: \n",
    "For example, suppose you have the following list:\n",
    "Each policy actually describes two positions in the password, where 1 means the first character, \n",
    "2 means the second character, and so on. (Be careful; Toboggan Corporate Policies have no concept of \"index zero\"!) Exactly one of these positions must contain the given letter. Other occurrences of the letter are irrelevant for the purposes of policy enforcement.\n",
    "\n",
    "Given the same example list from above:\n",
    "\n",
    "    1-3 a: abcde is valid: position 1 contains a and position 3 does not.\n",
    "    1-3 b: cdefg is invalid: neither position 1 nor position 3 contains b.\n",
    "    2-9 c: ccccccccc is invalid: both position 2 and position 9 contain c.\n",
    "\n",
    "\n",
    "\"\"\"\n",
    "\n",
    "def check_pos(pos, char, password):\n",
    "    \n",
    "    if len(password) >= int(pos):\n",
    "        pos = int(pos) -1 # account for 1st index start point \n",
    "        if password[pos] == char:\n",
    "            return 1\n",
    "        else:\n",
    "            return 0     \n",
    "    else:\n",
    "        return 0\n",
    "\n",
    "\n",
    "valid_password_count=0\n",
    "for line in day2_data:\n",
    "    \n",
    "    # clean up line\n",
    "    line = re.sub(r'-', ' ', line)\n",
    "    line = re.sub(r':', '', line)\n",
    "    first_pos, second_pos, char, password = line.split()\n",
    "    \n",
    "    # send values to check_pos function\n",
    "    first_check = check_pos(first_pos, char, password)\n",
    "    second_check = check_pos(second_pos, char, password)\n",
    "    \n",
    "    #calc score \n",
    "    score = first_check + second_check\n",
    "    \n",
    "    # if, and only if, there is one condition match \n",
    "    if score == 1:\n",
    "        valid_password_count+=1 \n",
    "\n",
    "\n",
    "        \n",
    "print(\"Valid passwords: \", valid_password_count)   "
   ]
  },
  {
   "cell_type": "code",
   "execution_count": null,
   "metadata": {},
   "outputs": [],
   "source": []
  }
 ],
 "metadata": {
  "kernelspec": {
   "display_name": "Python 3",
   "language": "python",
   "name": "python3"
  },
  "language_info": {
   "codemirror_mode": {
    "name": "ipython",
    "version": 3
   },
   "file_extension": ".py",
   "mimetype": "text/x-python",
   "name": "python",
   "nbconvert_exporter": "python",
   "pygments_lexer": "ipython3",
   "version": "3.6.9"
  }
 },
 "nbformat": 4,
 "nbformat_minor": 4
}
