{
 "cells": [
  {
   "cell_type": "markdown",
   "metadata": {},
   "source": [
    "# Advent of Code 2020"
   ]
  },
  {
   "cell_type": "markdown",
   "metadata": {},
   "source": [
    "### Imports"
   ]
  },
  {
   "cell_type": "code",
   "execution_count": null,
   "metadata": {},
   "outputs": [],
   "source": [
    "import os\n",
    "import re\n",
    "import pandas"
   ]
  },
  {
   "cell_type": "markdown",
   "metadata": {},
   "source": [
    "### Configs"
   ]
  },
  {
   "cell_type": "code",
   "execution_count": null,
   "metadata": {},
   "outputs": [],
   "source": [
    "# define current path \n",
    "current_dir = os.getcwd()"
   ]
  },
  {
   "cell_type": "markdown",
   "metadata": {},
   "source": [
    "# Day 1"
   ]
  },
  {
   "cell_type": "markdown",
   "metadata": {},
   "source": [
    "### Part 1"
   ]
  },
  {
   "cell_type": "code",
   "execution_count": null,
   "metadata": {
    "scrolled": true
   },
   "outputs": [],
   "source": [
    "\"\"\"\n",
    "Requirements: \n",
    "- find two numbers in list that add up to 2020 \n",
    "- get product of said numbers\n",
    "\"\"\"\n",
    "\n",
    "## input file https://adventofcode.com/2020/day/1/input \n",
    "data = []\n",
    "with open(\"{}/input/day1_input.txt\".format(current_dir), \"r\") as FIN:\n",
    "    for num in FIN:\n",
    "        data.append(int(num))\n",
    "\n",
    "goal = 2020;  \n",
    "for first_count, first_num in enumerate(data):\n",
    "    for second_count, second_num in enumerate(data[first_count+1:]):\n",
    "        check = first_num + second_num\n",
    "        if check == goal:\n",
    "            print(\"{} + {} = {}\".format(first_num, second_num, goal))\n",
    "            product = first_num * second_num\n",
    "            print(\"{} * {} = {}\".format(first_num, second_num, product))\n",
    "\n",
    "    "
   ]
  },
  {
   "cell_type": "markdown",
   "metadata": {},
   "source": [
    "### Part 2"
   ]
  },
  {
   "cell_type": "code",
   "execution_count": null,
   "metadata": {},
   "outputs": [],
   "source": [
    "\"\"\"\n",
    "Requirements: \n",
    "- find three numbers in list that add up to 2020 \n",
    "- get product of said numbers\n",
    "\"\"\"\n",
    "\n",
    "goal = 2020;  \n",
    "for first_count, first_num in enumerate(data):\n",
    "    for second_count, second_num in enumerate(data[first_count+1:]):\n",
    "        for third_count, third_num in enumerate(data[first_count+2:]):\n",
    "            check = first_num + second_num + third_num\n",
    "            if check == goal:\n",
    "                print(\"{} + {} + {} = {}\".format(first_num, second_num, third_num, goal))\n",
    "                product = first_num * second_num * third_num\n",
    "                print(\"{} * {} * {} = {}\".format(first_num, second_num, third_num, product))"
   ]
  },
  {
   "cell_type": "markdown",
   "metadata": {},
   "source": [
    "# Day 2"
   ]
  },
  {
   "cell_type": "markdown",
   "metadata": {},
   "source": [
    "## Part 1"
   ]
  },
  {
   "cell_type": "code",
   "execution_count": null,
   "metadata": {},
   "outputs": [],
   "source": [
    "\"\"\"\n",
    "Requirements: \n",
    "- evaluate a list of passwords based on criteria.\n",
    "\n",
    "- From site: \n",
    "For example, suppose you have the following list:\n",
    "\n",
    "1-3 a: abcde\n",
    "1-3 b: cdefg\n",
    "2-9 c: ccccccccc\n",
    "\n",
    "Each line gives the password policy and then the password. The password policy indicates the lowest and\n",
    "highest number of times a given letter must appear for the password to be valid. For example, 1-3 a means\n",
    "that the password must contain a at least 1 time and at most 3 times.\n",
    "\n",
    "In the above example, 2 passwords are valid. The middle password, cdefg, is not; it contains no instances\n",
    "of b, but needs at least 1. The first and third passwords are valid: they contain one a or nine c, both\n",
    "within the limits of their respective policies.\n",
    "\"\"\"\n",
    "# input file: https://adventofcode.com/2020/day/2/input \n",
    "day2_data = []\n",
    "\n",
    "with open(\"{}/input/day2_input.txt\".format(current_dir), \"r\") as FIN:\n",
    "    for line in FIN:\n",
    "        day2_data.append(line)\n",
    "\n",
    "valid_password_count = 0\n",
    "for line in day2_data: \n",
    "    \n",
    "    #clean up line\n",
    "    line = re.sub(r'-', ' ', line)\n",
    "    line = re.sub(r':', '', line)\n",
    "    lower_bound, upper_bound, char, password = line.split()\n",
    "    \n",
    "    \n",
    "    # count chars\n",
    "    count=0\n",
    "    for letter in password: \n",
    "        if letter == char:\n",
    "            count += 1\n",
    "    \n",
    "    if count >= int(lower_bound) and count <= int(upper_bound):\n",
    "        valid_password_count+=1\n",
    "        \n",
    "print(\"Valid passwords: \", valid_password_count)   "
   ]
  },
  {
   "cell_type": "markdown",
   "metadata": {},
   "source": [
    "## Part 2"
   ]
  },
  {
   "cell_type": "code",
   "execution_count": null,
   "metadata": {
    "scrolled": false
   },
   "outputs": [],
   "source": [
    "\"\"\"\n",
    "Requirements: \n",
    "- evaluate a list of passwords based on criteria.\n",
    "\n",
    "- From site: \n",
    "For example, suppose you have the following list:\n",
    "Each policy actually describes two positions in the password, where 1 means the first character, \n",
    "2 means the second character, and so on. (Be careful; Toboggan Corporate Policies have no concept of \"index zero\"!) Exactly one of these positions must contain the given letter. Other occurrences of the letter are irrelevant for the purposes of policy enforcement.\n",
    "\n",
    "Given the same example list from above:\n",
    "\n",
    "    1-3 a: abcde is valid: position 1 contains a and position 3 does not.\n",
    "    1-3 b: cdefg is invalid: neither position 1 nor position 3 contains b.\n",
    "    2-9 c: ccccccccc is invalid: both position 2 and position 9 contain c.\n",
    "\n",
    "\n",
    "\"\"\"\n",
    "\n",
    "def check_pos(pos, char, password):\n",
    "    \n",
    "    if len(password) >= int(pos):\n",
    "        pos = int(pos) -1 # account for 1st index start point \n",
    "        if password[pos] == char:\n",
    "            return 1\n",
    "        else:\n",
    "            return 0     \n",
    "    else:\n",
    "        return 0\n",
    "\n",
    "\n",
    "valid_password_count=0\n",
    "for line in day2_data:\n",
    "    \n",
    "    # clean up line\n",
    "    line = re.sub(r'-', ' ', line)\n",
    "    line = re.sub(r':', '', line)\n",
    "    first_pos, second_pos, char, password = line.split()\n",
    "    \n",
    "    # send values to check_pos function\n",
    "    first_check = check_pos(first_pos, char, password)\n",
    "    second_check = check_pos(second_pos, char, password)\n",
    "    \n",
    "    #calc score \n",
    "    score = first_check + second_check\n",
    "    \n",
    "    # if, and only if, there is one condition match \n",
    "    if score == 1:\n",
    "        valid_password_count+=1 \n",
    "\n",
    "\n",
    "        \n",
    "print(\"Valid passwords: \", valid_password_count)   "
   ]
  },
  {
   "cell_type": "markdown",
   "metadata": {},
   "source": [
    "# Day 3 "
   ]
  },
  {
   "cell_type": "markdown",
   "metadata": {},
   "source": [
    "## Part 1"
   ]
  },
  {
   "cell_type": "code",
   "execution_count": null,
   "metadata": {},
   "outputs": [],
   "source": [
    "day3_data = []\n",
    "\n",
    "with open(\"{}/input/day3_input.txt\".format(current_dir), \"r\") as FIN:\n",
    "    for line in FIN:\n",
    "        day3_data.append(line.strip())\n",
    "        \n",
    "day3_data  = list(filter(None, day3_data))\n"
   ]
  },
  {
   "cell_type": "code",
   "execution_count": null,
   "metadata": {},
   "outputs": [],
   "source": [
    "tree_count = 0 \n",
    "\n",
    "for line in range(len(day3_data)):\n",
    "    pos = (line * 3) % len(day3_data[line])\n",
    "    if day3_data[line][pos] == '#':\n",
    "        tree_count +=1 \n",
    "        \n",
    "print('Trees: ', tree_count)"
   ]
  },
  {
   "cell_type": "markdown",
   "metadata": {},
   "source": [
    "## Part 2 "
   ]
  },
  {
   "cell_type": "code",
   "execution_count": null,
   "metadata": {},
   "outputs": [],
   "source": [
    "#work in progress"
   ]
  },
  {
   "cell_type": "markdown",
   "metadata": {},
   "source": [
    "# Day 4 "
   ]
  },
  {
   "cell_type": "markdown",
   "metadata": {},
   "source": [
    "## Part 1 "
   ]
  },
  {
   "cell_type": "code",
   "execution_count": null,
   "metadata": {},
   "outputs": [],
   "source": [
    "day4_data = ''\n",
    "with open(\"{}/input/day4_input.txt\".format(current_dir), \"r\") as FIN:\n",
    "    day4_data = FIN.read()\n",
    "\n",
    "passport_list= day4_data.split('\\n\\n')\n",
    "passport_list =list(filter(None, passport_list))\n",
    "\n",
    "def is_valid(item):\n",
    "    req_fields = ['byr', 'iyr', 'eyr', 'hgt', 'hcl', 'ecl', 'pid', 'cid']\n",
    "\n",
    "    for i in item.split(): \n",
    "        k,v = i.split(':')\n",
    "        if k in req_fields:\n",
    "            req_fields.remove(k)\n",
    "        \n",
    "    if len(req_fields) == 0:\n",
    "        return True\n",
    "    elif len(req_fields) == 1 and req_fields[0] == \"cid\":\n",
    "        return True\n",
    "    else:\n",
    "        return False\n",
    "    \n",
    "valid_passports=0;\n",
    "for item in passport_list:\n",
    "    if (is_valid(item)):\n",
    "        valid_passports+=1\n",
    "\n",
    "print(\"Valid passports: \", valid_passports)"
   ]
  },
  {
   "cell_type": "markdown",
   "metadata": {},
   "source": [
    "## Part 2"
   ]
  },
  {
   "cell_type": "code",
   "execution_count": null,
   "metadata": {},
   "outputs": [],
   "source": [
    "FIELD_VALUES = {\n",
    "    'byr': [1920, 2020],\n",
    "    'iyr': [2010,2020],\n",
    "    'eyr': [2020,2030],\n",
    "    'hgt': {\n",
    "        'cm' : [150, 193],\n",
    "        'in' : [59, 76]\n",
    "    },\n",
    "    'hcl': '#[a-f0-9]',\n",
    "    'ecl': ['amb', 'blu', 'brn', 'gry', 'grn', 'hzl', 'oth'],\n",
    "    'pid': '\\d{9}',\n",
    "    'cid': [],\n",
    "}\n",
    "\n",
    "# def check_cid\n",
    "\n",
    "def check_pid(key ,pid):\n",
    "    pattern = r'^{}$'.format(FIELD_VALUES[key])\n",
    "    #print(pattern)\n",
    "    match = re.search(pattern, pid)\n",
    "    \n",
    "    if match:\n",
    "        return True\n",
    "    else:\n",
    "        return False \n",
    "\n",
    "def check_eye_color(key, color):\n",
    "    \n",
    "    if color in FIELD_VALUES[key]:\n",
    "        return True\n",
    "    else:\n",
    "        return False\n",
    "\n",
    "def check_hair_color(key, color):\n",
    "    \n",
    "    pattern = r'^{}$'.format(FIELD_VALUES[key])\n",
    "    match = re.search(pattern, color)\n",
    "    \n",
    "    if match:\n",
    "        return True\n",
    "    else:\n",
    "        return False \n",
    "    \n",
    "    \n",
    "def check_height(key, height):\n",
    "    #height = re.sub(r' ', '', height)\n",
    "    match = re.search(r'(\\d{2,3})(cm|in)', height)\n",
    "        \n",
    "    if match:\n",
    "        num = int(match.group(1))\n",
    "        system = match.group(2)\n",
    "        \n",
    "        if num >=FIELD_VALUES[key][system][0] and num <= FIELD_VALUES[key][system][1]:\n",
    "            return True\n",
    "        else:\n",
    "            return False\n",
    "    else:\n",
    "        return False\n",
    "    \n",
    "\n",
    "def check_date(key, date):\n",
    "    \n",
    "    if date >= FIELD_VALUES[key][0] and date <= FIELD_VALUES[key][1]:\n",
    "        return True\n",
    "    else:\n",
    "        return False\n",
    "\n",
    "\n",
    "def is_valid(item):\n",
    "    req_fields = ['byr', 'iyr', 'eyr', 'hgt', 'hcl', 'ecl', 'pid', 'cid']\n",
    "\n",
    "    failed_reqs = 0\n",
    "    for i in item.split(): \n",
    "        k,v = i.split(':')\n",
    "        \n",
    "        #check various dates \n",
    "        if k == 'byr' or k == 'iyr' or k == 'eyr':\n",
    "            if not check_date(k, int(v)):\n",
    "                req_fields.remove(k)\n",
    "                failed_reqs +=1\n",
    "            \n",
    "        #check height\n",
    "        if k == 'hgt':\n",
    "            if not check_height(k,v):\n",
    "                req_fields.remove(k)\n",
    "                failed_reqs+=1\n",
    "        \n",
    "        #check hair color\n",
    "        if k == 'hcl':\n",
    "            if not check_hair_color(k,v):\n",
    "                req_fields.remove(k)\n",
    "                failed_reqs+=1\n",
    "                \n",
    "        #check eye color\n",
    "        if k == 'ecl':\n",
    "            if not check_eye_color(k, v):\n",
    "                req_fields.remove(k)\n",
    "                failed_reqs+=1\n",
    "        \n",
    "        #check pid\n",
    "        if k == 'pid':\n",
    "            if not check_pid(k,v):\n",
    "                req_fields.remove(k)\n",
    "                failed_reqs+=1\n",
    "        \n",
    "        if k == 'cid':\n",
    "            req_fields.remove(k)\n",
    "            \n",
    "            \n",
    "                \n",
    "    if len(req_fields) == 0 and failed_reqs == 0:\n",
    "        return True\n",
    "    else:\n",
    "        return False\n",
    "\n",
    "\n",
    "valid_passports=0;\n",
    "for item in passport_list:\n",
    "    if(is_valid(item)):\n",
    "        valid_passports+=1\n",
    "        \n",
    "\n",
    "print(\"Valid passports: \", valid_passports)"
   ]
  },
  {
   "cell_type": "markdown",
   "metadata": {},
   "source": []
  }
 ],
 "metadata": {
  "kernelspec": {
   "display_name": "Python 3",
   "language": "python",
   "name": "python3"
  },
  "language_info": {
   "codemirror_mode": {
    "name": "ipython",
    "version": 3
   },
   "file_extension": ".py",
   "mimetype": "text/x-python",
   "name": "python",
   "nbconvert_exporter": "python",
   "pygments_lexer": "ipython3",
   "version": "3.6.9"
  }
 },
 "nbformat": 4,
 "nbformat_minor": 4
}
