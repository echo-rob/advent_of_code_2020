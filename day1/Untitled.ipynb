{
 "cells": [
  {
   "cell_type": "markdown",
   "metadata": {},
   "source": [
    "Get input file "
   ]
  },
  {
   "cell_type": "code",
   "execution_count": 8,
   "metadata": {},
   "outputs": [],
   "source": [
    "## input file https://adventofcode.com/2020/day/1/input \n",
    "data = []\n",
    "with open(\"day1_input.txt\", \"r\") as FIN:\n",
    "    for num in FIN:\n",
    "        data.append(int(num))"
   ]
  },
  {
   "cell_type": "code",
   "execution_count": 67,
   "metadata": {
    "scrolled": true
   },
   "outputs": [
    {
     "name": "stdout",
     "output_type": "stream",
     "text": [
      "211 + 1809 = 2020\n",
      "211 * 1809 = 381699\n"
     ]
    }
   ],
   "source": [
    "goal = 2020;  \n",
    "for first_count, first_num in enumerate(data):\n",
    "    for second_count, second_num in enumerate(data[first_count+1:]):\n",
    "        check = first_num + second_num\n",
    "        if check == goal:\n",
    "            print(\"{} + {} = {}\".format(first_num, second_num, goal))\n",
    "            product = first_num * second_num\n",
    "            print(\"{} * {} = {}\".format(first_num, second_num, product))\n",
    "\n",
    "    "
   ]
  }
 ],
 "metadata": {
  "kernelspec": {
   "display_name": "Python 3",
   "language": "python",
   "name": "python3"
  },
  "language_info": {
   "codemirror_mode": {
    "name": "ipython",
    "version": 3
   },
   "file_extension": ".py",
   "mimetype": "text/x-python",
   "name": "python",
   "nbconvert_exporter": "python",
   "pygments_lexer": "ipython3",
   "version": "3.6.9"
  }
 },
 "nbformat": 4,
 "nbformat_minor": 4
}
