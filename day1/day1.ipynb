{
 "cells": [
  {
   "cell_type": "markdown",
   "metadata": {},
   "source": [
    "Get input file "
   ]
  },
  {
   "cell_type": "code",
   "execution_count": 8,
   "metadata": {},
   "outputs": [],
   "source": [
    "## input file https://adventofcode.com/2020/day/1/input \n",
    "data = []\n",
    "with open(\"day1_input.txt\", \"r\") as FIN:\n",
    "    for num in FIN:\n",
    "        data.append(int(num))"
   ]
  },
  {
   "cell_type": "markdown",
   "metadata": {},
   "source": [
    "Part 1"
   ]
  },
  {
   "cell_type": "code",
   "execution_count": 67,
   "metadata": {
    "scrolled": true
   },
   "outputs": [
    {
     "name": "stdout",
     "output_type": "stream",
     "text": [
      "211 + 1809 = 2020\n",
      "211 * 1809 = 381699\n"
     ]
    }
   ],
   "source": [
    "\"\"\"\n",
    "Requirements: \n",
    "- find two numbers in list that add up to 2020 \n",
    "- get product of said numbers\n",
    "\"\"\"\n",
    "goal = 2020;  \n",
    "for first_count, first_num in enumerate(data):\n",
    "    for second_count, second_num in enumerate(data[first_count+1:]):\n",
    "        check = first_num + second_num\n",
    "        if check == goal:\n",
    "            print(\"{} + {} = {}\".format(first_num, second_num, goal))\n",
    "            product = first_num * second_num\n",
    "            print(\"{} * {} = {}\".format(first_num, second_num, product))\n",
    "\n",
    "    "
   ]
  },
  {
   "cell_type": "markdown",
   "metadata": {},
   "source": [
    "Part 2"
   ]
  },
  {
   "cell_type": "code",
   "execution_count": 70,
   "metadata": {},
   "outputs": [
    {
     "name": "stdout",
     "output_type": "stream",
     "text": [
      "395 + 198 + 1427 = 2020\n",
      "395 * 198 * 1427 = 111605670\n",
      "395 + 1427 + 198 = 2020\n",
      "395 * 1427 * 198 = 111605670\n"
     ]
    }
   ],
   "source": [
    "\"\"\"\n",
    "Requirements: \n",
    "- find three numbers in list that add up to 2020 \n",
    "- get product of said numbers\n",
    "\"\"\"\n",
    "\n",
    "goal = 2020;  \n",
    "for first_count, first_num in enumerate(data):\n",
    "    for second_count, second_num in enumerate(data[first_count+1:]):\n",
    "        for third_count, third_num in enumerate(data[first_count+2:]):\n",
    "            check = first_num + second_num + third_num\n",
    "            if check == goal:\n",
    "                print(\"{} + {} + {} = {}\".format(first_num, second_num, third_num, goal))\n",
    "                product = first_num * second_num * third_num\n",
    "                print(\"{} * {} * {} = {}\".format(first_num, second_num, third_num, product))"
   ]
  },
  {
   "cell_type": "code",
   "execution_count": null,
   "metadata": {},
   "outputs": [],
   "source": []
  }
 ],
 "metadata": {
  "kernelspec": {
   "display_name": "Python 3",
   "language": "python",
   "name": "python3"
  },
  "language_info": {
   "codemirror_mode": {
    "name": "ipython",
    "version": 3
   },
   "file_extension": ".py",
   "mimetype": "text/x-python",
   "name": "python",
   "nbconvert_exporter": "python",
   "pygments_lexer": "ipython3",
   "version": "3.6.9"
  }
 },
 "nbformat": 4,
 "nbformat_minor": 4
}
